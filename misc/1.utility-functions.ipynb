{
 "cells": [
  {
   "cell_type": "code",
   "execution_count": 6,
   "metadata": {},
   "outputs": [],
   "source": [
    "import os\n",
    "import cv2"
   ]
  },
  {
   "cell_type": "markdown",
   "metadata": {},
   "source": [
    "# Utility Functions"
   ]
  },
  {
   "cell_type": "markdown",
   "metadata": {},
   "source": [
    "## 1. Video Properties"
   ]
  },
  {
   "cell_type": "code",
   "execution_count": 11,
   "metadata": {},
   "outputs": [],
   "source": [
    "def print_video_properties(video_input_path):\n",
    "    # Capture the video from the input path\n",
    "    cap = cv2.VideoCapture(video_input_path)\n",
    "    \n",
    "    if not cap.isOpened():\n",
    "        print(f\"Error: Unable to open video file {video_input_path}\")\n",
    "        return\n",
    "    \n",
    "    # Get video properties\n",
    "    properties = {\n",
    "        \"Frame Width\": cap.get(cv2.CAP_PROP_FRAME_WIDTH),\n",
    "        \"Frame Height\": cap.get(cv2.CAP_PROP_FRAME_HEIGHT),\n",
    "        \"Frame Count\": cap.get(cv2.CAP_PROP_FRAME_COUNT),\n",
    "        \"FPS\": cap.get(cv2.CAP_PROP_FPS),\n",
    "        \"Duration (seconds)\": cap.get(cv2.CAP_PROP_FRAME_COUNT) / cap.get(cv2.CAP_PROP_FPS),\n",
    "        \"FourCC Codec\": int(cap.get(cv2.CAP_PROP_FOURCC)),\n",
    "        \"Brightness\": cap.get(cv2.CAP_PROP_BRIGHTNESS),\n",
    "        \"Contrast\": cap.get(cv2.CAP_PROP_CONTRAST),\n",
    "        \"Saturation\": cap.get(cv2.CAP_PROP_SATURATION),\n",
    "        \"Hue\": cap.get(cv2.CAP_PROP_HUE),\n",
    "        \"Gain\": cap.get(cv2.CAP_PROP_GAIN),\n",
    "        \"Exposure\": cap.get(cv2.CAP_PROP_EXPOSURE),\n",
    "        \"Convert RGB\": cap.get(cv2.CAP_PROP_CONVERT_RGB),\n",
    "    }\n",
    "    \n",
    "    # Print video properties\n",
    "    for prop, value in properties.items():\n",
    "        if prop == \"FourCC Codec\":\n",
    "            # Decode FourCC codec\n",
    "            codec = (\n",
    "                chr((value & 0XFF)),\n",
    "                chr((value & 0XFF00) >> 8),\n",
    "                chr((value & 0XFF0000) >> 16),\n",
    "                chr((value & 0XFF000000) >> 24)\n",
    "            )\n",
    "            value = ''.join(codec)\n",
    "        print(f\"{prop}: {value}\")\n",
    "    \n",
    "    # Release the video capture object\n",
    "    cap.release()"
   ]
  },
  {
   "cell_type": "code",
   "execution_count": 12,
   "metadata": {},
   "outputs": [
    {
     "name": "stdout",
     "output_type": "stream",
     "text": [
      "Frame Width: 704.0\n",
      "Frame Height: 480.0\n",
      "Frame Count: 43162.0\n",
      "FPS: 8.0\n",
      "Duration (seconds): 5395.25\n",
      "FourCC Codec: h264\n",
      "Brightness: 0.0\n",
      "Contrast: 0.0\n",
      "Saturation: 0.0\n",
      "Hue: 0.0\n",
      "Gain: 0.0\n",
      "Exposure: 0.0\n",
      "Convert RGB: 1.0\n"
     ]
    }
   ],
   "source": [
    "print_video_properties(video_input_path='/home/azureuser/nikhil20.sharma/data/8972_C9.mp4')"
   ]
  },
  {
   "cell_type": "markdown",
   "metadata": {},
   "source": [
    "## 2. Split video in chunks"
   ]
  },
  {
   "cell_type": "code",
   "execution_count": 16,
   "metadata": {},
   "outputs": [],
   "source": [
    "def split_video(video_input_path, video_output_dir='output_chunks', chunk_in_min=2, no_of_chunks=None):\n",
    "    # Ensure the output directory exists\n",
    "    os.makedirs(video_output_dir, exist_ok=True)\n",
    "    \n",
    "    # Capture the video from the input path\n",
    "    cap = cv2.VideoCapture(video_input_path)\n",
    "    \n",
    "    # Get the video properties\n",
    "    fps = cap.get(cv2.CAP_PROP_FPS)\n",
    "    frame_count = int(cap.get(cv2.CAP_PROP_FRAME_COUNT))\n",
    "    duration_in_sec = frame_count / fps\n",
    "    chunk_in_sec = chunk_in_min * 60\n",
    "\n",
    "    # Calculate the number of chunks\n",
    "    num_chunks = int(duration_in_sec // chunk_in_sec) + 1\n",
    "\n",
    "    # Get the video width and height\n",
    "    width = int(cap.get(cv2.CAP_PROP_FRAME_WIDTH))\n",
    "    height = int(cap.get(cv2.CAP_PROP_FRAME_HEIGHT))\n",
    "    \n",
    "    counter = 0\n",
    "    for chunk_index in range(num_chunks):\n",
    "        # Define the codec and create VideoWriter object\n",
    "        output_path = os.path.join(video_output_dir, f\"chunk_{chunk_index + 1}.mp4\")\n",
    "        fourcc = cv2.VideoWriter_fourcc(*'mp4v')\n",
    "\n",
    "        out = cv2.VideoWriter(output_path, fourcc, fps, (width, height))\n",
    "\n",
    "        # Write frames for this chunk\n",
    "        for frame_index in range(int(chunk_in_sec * fps)):\n",
    "            ret, frame = cap.read()\n",
    "            if not ret:\n",
    "                break\n",
    "            out.write(frame)\n",
    "        \n",
    "        out.release()\n",
    "\n",
    "        counter += 1\n",
    "\n",
    "        if no_of_chunks is not None and counter == no_of_chunks:\n",
    "            break\n",
    "\n",
    "    \n",
    "    cap.release()\n",
    "    print(\"Video has been split into chunks and saved to:\", video_output_dir)"
   ]
  },
  {
   "cell_type": "code",
   "execution_count": 18,
   "metadata": {},
   "outputs": [
    {
     "name": "stdout",
     "output_type": "stream",
     "text": [
      "Video has been split into chunks and saved to: /home/azureuser/nikhil20.sharma/data/8972_C9_2m_chuncks\n"
     ]
    }
   ],
   "source": [
    "# Example usage: split_video(video_input_path, video_output_dir, chunk_in_min)\n",
    "split_video(\n",
    "    video_input_path='/home/azureuser/nikhil20.sharma/data/8972_C9.mp4', \n",
    "    video_output_dir='/home/azureuser/nikhil20.sharma/data/8972_C9_2m_chuncks', \n",
    "    chunk_in_min=2,  # Split video into n-minute chunks\n",
    "    no_of_chunks=10\n",
    ")  "
   ]
  },
  {
   "cell_type": "code",
   "execution_count": 19,
   "metadata": {},
   "outputs": [
    {
     "name": "stdout",
     "output_type": "stream",
     "text": [
      "Frame Width: 704.0\n",
      "Frame Height: 480.0\n",
      "Frame Count: 960.0\n",
      "FPS: 8.0\n",
      "Duration (seconds): 120.0\n",
      "FourCC Codec: FMP4\n",
      "Brightness: 0.0\n",
      "Contrast: 0.0\n",
      "Saturation: 0.0\n",
      "Hue: 0.0\n",
      "Gain: 0.0\n",
      "Exposure: 0.0\n",
      "Convert RGB: 1.0\n"
     ]
    }
   ],
   "source": [
    "print_video_properties(video_input_path='/home/azureuser/nikhil20.sharma/data/8972_C9_2m_chuncks/chunk_1.mp4')"
   ]
  },
  {
   "cell_type": "code",
   "execution_count": null,
   "metadata": {},
   "outputs": [],
   "source": []
  },
  {
   "cell_type": "markdown",
   "metadata": {},
   "source": [
    "## 3. Extract Frames"
   ]
  },
  {
   "cell_type": "code",
   "execution_count": 4,
   "metadata": {},
   "outputs": [],
   "source": [
    "def extract_frames(video_path, output_folder):\n",
    "    # Ensure output folder exists\n",
    "    if not os.path.exists(output_folder):\n",
    "        os.makedirs(output_folder)\n",
    "    \n",
    "    # Open the video file\n",
    "    video = cv2.VideoCapture(video_path)\n",
    "    \n",
    "    # Check if video opened successfully\n",
    "    if not video.isOpened():\n",
    "        print(\"Error: Could not open video.\")\n",
    "        return\n",
    "    \n",
    "    # Get video properties\n",
    "    fps = video.get(cv2.CAP_PROP_FPS)\n",
    "    frame_count = int(video.get(cv2.CAP_PROP_FRAME_COUNT))\n",
    "    \n",
    "    print(f\"FPS: {fps}\")\n",
    "    print(f\"Total frames: {frame_count}\")\n",
    "    \n",
    "    # Read frames and save as images\n",
    "    frame_number = 0\n",
    "    while True:\n",
    "        ret, frame = video.read()\n",
    "        if not ret:\n",
    "            break\n",
    "        \n",
    "        # Generate output file path\n",
    "        output_path = os.path.join(output_folder, f\"frame_{frame_number:06d}.jpg\")\n",
    "        \n",
    "        # Save frame as image\n",
    "        cv2.imwrite(output_path, frame)\n",
    "        \n",
    "        frame_number += 1\n",
    "        \n",
    "        # Print progress\n",
    "        if frame_number % 100 == 0:\n",
    "            print(f\"Extracted {frame_number} frames\")\n",
    "    \n",
    "    # Release video capture object\n",
    "    video.release()\n",
    "    \n",
    "    print(f\"Extraction complete. {frame_number} frames extracted.\")"
   ]
  },
  {
   "cell_type": "code",
   "execution_count": 7,
   "metadata": {},
   "outputs": [
    {
     "name": "stdout",
     "output_type": "stream",
     "text": [
      "Error: Could not open video.\n"
     ]
    },
    {
     "name": "stderr",
     "output_type": "stream",
     "text": [
      "OpenCV: Couldn't read video stream from file \"../data/8972_C9_2m_chuncks/chunk_1.mp4\"\n"
     ]
    }
   ],
   "source": [
    "# Example usage: extract_frames(video_path, output_folder)\n",
    "video_path = \"../data/8972_C9_2m_chuncks/chunk_1.mp4\"\n",
    "output_folder = \"../data/8972_C9_2m_chunck_1_frames\"\n",
    "extract_frames(video_path, output_folder)"
   ]
  },
  {
   "cell_type": "markdown",
   "metadata": {},
   "source": [
    "# End"
   ]
  },
  {
   "cell_type": "code",
   "execution_count": 3,
   "metadata": {},
   "outputs": [
    {
     "name": "stdout",
     "output_type": "stream",
     "text": [
      "{'format': {'bit_rate': '1106617',\n",
      "            'duration': '3883.896000',\n",
      "            'filename': './Data/8972/8972_C4.mp4',\n",
      "            'format_long_name': 'MPEG-PS (MPEG-2 Program Stream)',\n",
      "            'format_name': 'mpeg',\n",
      "            'nb_programs': 0,\n",
      "            'nb_stream_groups': 0,\n",
      "            'nb_streams': 1,\n",
      "            'probe_score': 52,\n",
      "            'size': '537248372',\n",
      "            'start_time': '80418.716000'},\n",
      " 'streams': [{'avg_frame_rate': '8/1',\n",
      "              'bits_per_raw_sample': '8',\n",
      "              'chroma_location': 'left',\n",
      "              'closed_captions': 0,\n",
      "              'codec_long_name': 'H.264 / AVC / MPEG-4 AVC / MPEG-4 part 10',\n",
      "              'codec_name': 'h264',\n",
      "              'codec_tag': '0x0000',\n",
      "              'codec_tag_string': '[0][0][0][0]',\n",
      "              'codec_type': 'video',\n",
      "              'coded_height': 480,\n",
      "              'coded_width': 704,\n",
      "              'color_primaries': 'bt709',\n",
      "              'color_range': 'pc',\n",
      "              'color_space': 'bt709',\n",
      "              'color_transfer': 'bt709',\n",
      "              'disposition': {'attached_pic': 0,\n",
      "                              'captions': 0,\n",
      "                              'clean_effects': 0,\n",
      "                              'comment': 0,\n",
      "                              'default': 0,\n",
      "                              'dependent': 0,\n",
      "                              'descriptions': 0,\n",
      "                              'dub': 0,\n",
      "                              'forced': 0,\n",
      "                              'hearing_impaired': 0,\n",
      "                              'karaoke': 0,\n",
      "                              'lyrics': 0,\n",
      "                              'metadata': 0,\n",
      "                              'non_diegetic': 0,\n",
      "                              'original': 0,\n",
      "                              'still_image': 0,\n",
      "                              'timed_thumbnails': 0,\n",
      "                              'visual_impaired': 0},\n",
      "              'duration': '3883.896000',\n",
      "              'duration_ts': 349550640,\n",
      "              'extradata_size': 36,\n",
      "              'field_order': 'progressive',\n",
      "              'film_grain': 0,\n",
      "              'has_b_frames': 0,\n",
      "              'height': 480,\n",
      "              'id': '0x1e0',\n",
      "              'index': 0,\n",
      "              'is_avc': 'false',\n",
      "              'level': 30,\n",
      "              'nal_length_size': '0',\n",
      "              'pix_fmt': 'yuvj420p',\n",
      "              'profile': 'High',\n",
      "              'r_frame_rate': '25/1',\n",
      "              'refs': 1,\n",
      "              'start_pts': 7237684440,\n",
      "              'start_time': '80418.716000',\n",
      "              'time_base': '1/90000',\n",
      "              'width': 704}]}\n"
     ]
    }
   ],
   "source": [
    "import ffmpeg\n",
    "from pprint import pprint\n",
    "\n",
    "def print_full_metadata(video_path):\n",
    "    try:\n",
    "        # Get the metadata of the video file\n",
    "        probe = ffmpeg.probe(video_path)\n",
    "        \n",
    "        # Print the full metadata\n",
    "        pprint(probe)\n",
    "\n",
    "    except ffmpeg.Error as e:\n",
    "        print(f\"An error occurred: {e.stderr.decode()}\")\n",
    "\n",
    "# Example usage\n",
    "video_path = './Data/8972/8972_C4.mp4'\n",
    "print_full_metadata(video_path)"
   ]
  },
  {
   "cell_type": "code",
   "execution_count": null,
   "metadata": {},
   "outputs": [],
   "source": []
  },
  {
   "cell_type": "code",
   "execution_count": 14,
   "metadata": {},
   "outputs": [
    {
     "name": "stdout",
     "output_type": "stream",
     "text": [
      "\n",
      "\n",
      "WARNING ⚠️ inference results will accumulate in RAM unless `stream=True` is passed, causing potential out-of-memory\n",
      "errors for large sources or long-running streams and videos. See https://docs.ultralytics.com/modes/predict/ for help.\n",
      "\n",
      "Example:\n",
      "    results = model(source=..., stream=True)  # generator of Results objects\n",
      "    for r in results:\n",
      "        boxes = r.boxes  # Boxes object for bbox outputs\n",
      "        masks = r.masks  # Masks object for segment masks outputs\n",
      "        probs = r.probs  # Class probabilities for classification outputs\n",
      "\n",
      "Results saved to \u001b[1mruns/detect/predict\u001b[0m\n"
     ]
    },
    {
     "data": {
      "text/plain": [
       "[]"
      ]
     },
     "execution_count": 14,
     "metadata": {},
     "output_type": "execute_result"
    }
   ],
   "source": [
    "from ultralytics import YOLO\n",
    "\n",
    "# Load a pretrained YOLOv8n model\n",
    "model = YOLO(\"yolov8n.pt\")\n",
    "\n",
    "# Run inference on 'bus.jpg' with arguments\n",
    "model.predict( \n",
    "    source='Data/8972_C9_2m_chuncks/chunk_1.mp4',\n",
    "    save=True, \n",
    "    # imgsz=320, \n",
    "    conf=0.5\n",
    ")"
   ]
  },
  {
   "cell_type": "code",
   "execution_count": null,
   "metadata": {},
   "outputs": [],
   "source": []
  }
 ],
 "metadata": {
  "kernelspec": {
   "display_name": "Python 3 (ipykernel)",
   "language": "python",
   "name": "python3"
  },
  "language_info": {
   "codemirror_mode": {
    "name": "ipython",
    "version": 3
   },
   "file_extension": ".py",
   "mimetype": "text/x-python",
   "name": "python",
   "nbconvert_exporter": "python",
   "pygments_lexer": "ipython3",
   "version": "3.10.14"
  }
 },
 "nbformat": 4,
 "nbformat_minor": 4
}
